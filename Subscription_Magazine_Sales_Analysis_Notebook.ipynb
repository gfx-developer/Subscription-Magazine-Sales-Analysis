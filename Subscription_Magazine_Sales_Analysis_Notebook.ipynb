{
  "nbformat": 4,
  "nbformat_minor": 0,
  "metadata": {
    "colab": {
      "provenance": [],
      "authorship_tag": "ABX9TyOKSpR9XYWWisfOq6MIvT1i",
      "include_colab_link": true
    },
    "kernelspec": {
      "name": "python3",
      "display_name": "Python 3"
    },
    "language_info": {
      "name": "python"
    }
  },
  "cells": [
    {
      "cell_type": "markdown",
      "metadata": {
        "id": "view-in-github",
        "colab_type": "text"
      },
      "source": [
        "<a href=\"https://colab.research.google.com/github/gfx-developer/Subscription-Magazine-Sales-Analysis/blob/main/Subscription_Magazine_Sales_Analysis_Notebook.ipynb\" target=\"_parent\"><img src=\"https://colab.research.google.com/assets/colab-badge.svg\" alt=\"Open In Colab\"/></a>"
      ]
    },
    {
      "cell_type": "markdown",
      "source": [
        "1: lmport Libraties"
      ],
      "metadata": {
        "id": "fHWc6VuQ4Ykj"
      }
    },
    {
      "cell_type": "code",
      "execution_count": null,
      "metadata": {
        "id": "Xsp5bqqKyu_v"
      },
      "outputs": [],
      "source": [
        "import pandas as pd\n",
        "import numpy as np\n",
        "import matplotlib.pyplot as plt"
      ]
    },
    {
      "cell_type": "markdown",
      "source": [
        "2: Load the data"
      ],
      "metadata": {
        "id": "ROxoVdRR1iF9"
      }
    },
    {
      "cell_type": "code",
      "source": [
        "df = pd.read_csv('Subscription Magazine Sales.csv')\n",
        "    output = [] #List to store output result\n",
        "    output.append(\"Exploratory Data Analysis of Subscription Magazine Sales\\n\")\n",
        "    output.append('=====================================\\n')"
      ],
      "metadata": {
        "id": "kwkOUhtc3ahW"
      },
      "execution_count": null,
      "outputs": []
    },
    {
      "cell_type": "markdown",
      "source": [
        "3:Explore the data"
      ],
      "metadata": {
        "id": "DVS7EcuJ6dB2"
      }
    },
    {
      "cell_type": "code",
      "source": [
        "print(df.head()) #Display the first rows\n",
        "output.append(f'First few rows:\\n{df.head()}\\n')\n"
      ],
      "metadata": {
        "id": "MjGio1HS6lBq"
      },
      "execution_count": null,
      "outputs": []
    },
    {
      "cell_type": "code",
      "source": [
        "[] #Get basic information about the dataset\n",
        "df.info()"
      ],
      "metadata": {
        "id": "z6C5_lQc7Sf1"
      },
      "execution_count": null,
      "outputs": []
    },
    {
      "cell_type": "code",
      "source": [
        "print(df.describe()) #Summary stastistics\n",
        "output.append(f'Summary statistics:\\n{df.describe()}\\n')"
      ],
      "metadata": {
        "id": "15SVm7vM7jZ0"
      },
      "execution_count": null,
      "outputs": []
    },
    {
      "cell_type": "markdown",
      "source": [
        "4:Clean the data"
      ],
      "metadata": {
        "id": "aYPjGN4K8tH5"
      }
    },
    {
      "cell_type": "code",
      "source": [
        "output.append('Data cleaning Result:\\n')\n",
        "#check for missing values\n",
        "missing_values = df.isnull().sum()\n",
        "print(missing_values)\n",
        "output.append(f'Missing values:\\n{missing_values}\\n')\n",
        "\n",
        "#Fill or drop missing values as neccessary\n",
        "df.dropna(inplace=True)\n",
        "\n",
        "#Convert the data colum to data time format\n",
        "df['Date'] = pd.to_datetime(df['Date'])"
      ],
      "metadata": {
        "id": "Y2on4pKq8xqX"
      },
      "execution_count": null,
      "outputs": []
    },
    {
      "cell_type": "code",
      "source": [
        "#Chack for duplicates\n",
        "duplicates = df.duplicated().sum()\n",
        "output.append(f'Number of duplicates Dropped')\n",
        "\n",
        "#Drop duplicates\n",
        "df.drop_duplicates(inplace=True)"
      ],
      "metadata": {
        "id": "LkbDQrY79Bwu"
      },
      "execution_count": null,
      "outputs": []
    },
    {
      "cell_type": "markdown",
      "source": [
        "5:Analyze the data"
      ],
      "metadata": {
        "id": "qUAUJW2l_J-V"
      }
    },
    {
      "cell_type": "code",
      "source": [
        "#Total revenue from marketing service\n",
        "total_revenue = df['Revenue'].sum()\n",
        "output.append(f'Total Revenue: ${total_revenue}\\n')\n",
        "print(f'Total Revenue: ${total_revenue}')\n"
      ],
      "metadata": {
        "id": "QtV4l-LV_UfO"
      },
      "execution_count": null,
      "outputs": []
    },
    {
      "cell_type": "code",
      "source": [
        "#average price per customer type wise\n",
        "average_price_per_service = df.groupby('Customer_Type')['Price'].mean()\n",
        "output.append(f'Average Price Per Customer Type:\\n')\n",
        "output.append(f'{average_price_per_service}\\n')\n",
        "print(average_price_per_service)"
      ],
      "metadata": {
        "id": "AiO7-_8iAii2"
      },
      "execution_count": null,
      "outputs": []
    },
    {
      "cell_type": "code",
      "source": [
        "#Total services provided by region\n",
        "total_services_by_region = df['Region'].value_counts()\n",
        "output.append('Total Services Provided by Region:\\n')\n",
        "output.append(f'{total_services_by_region}\\n')"
      ],
      "metadata": {
        "id": "7s47XZVqBlCu"
      },
      "execution_count": null,
      "outputs": []
    },
    {
      "cell_type": "code",
      "source": [
        "#Total revenue by region\n",
        "revenue_by_region = df.groupby('Region')['Price'].sum()\n",
        "output.append('Total Revenue by Region:\\n')\n",
        "output.append(f'{revenue_by_region}\\n')\n",
        "print(revenue_by_region)"
      ],
      "metadata": {
        "id": "D8QY2o3BCmpv"
      },
      "execution_count": null,
      "outputs": []
    },
    {
      "cell_type": "markdown",
      "source": [
        "6:Visulize the data"
      ],
      "metadata": {
        "id": "lkZF84w2Depf"
      }
    },
    {
      "cell_type": "code",
      "source": [
        "plt.figure(figsize=(10,6))\n",
        "plt.bar(total_services_by_region.index, total_services_by_region.values)\n",
        "plt.title('Total Services Provided by Region')\n",
        "plt.xlabel('Region')\n",
        "plt.ylabel('Number of Services')\n",
        "plt.xticks(rotation=45)\n",
        "plt.savefig('total_services_by_region.png') #save the plot as an image\n",
        "plt.show"
      ],
      "metadata": {
        "id": "J_xhbEfXDoAv"
      },
      "execution_count": null,
      "outputs": []
    },
    {
      "cell_type": "code",
      "source": [
        "#pie chart for total services by region\n",
        "plt.figure(figsize=(8,8))\n",
        "plt.pie(total_services_by_region, labels=total_services_by_region.index, autopct='%1.1f%%')\n",
        "plt.title('Distribution of Total Services by Region')\n",
        "plt.axis('equal') #Equal aspect ratio that pie chart is circular\n",
        "plt.savefig('services_distribution_by_region.png') #save the plot as an image\n",
        "plt.show()\n"
      ],
      "metadata": {
        "id": "xQhqoILhE90d"
      },
      "execution_count": null,
      "outputs": []
    },
    {
      "cell_type": "code",
      "source": [
        "#Bar plot of average price per type\n",
        "plt.figure(figsize=(10,6))\n",
        "plt.bar(average_price_per_service.index, np.average_price_per_service.values)\n",
        "plt.title('Average Price Per Service Type')\n",
        "plt.xlabel('Service Type')\n",
        "plt.ylabel('Average Price')\n",
        "plt.xticks(rotation=45)\n",
        "plt.savefig('average_price_per_service.png') #Save the figure size\n",
        "plt.show()"
      ],
      "metadata": {
        "id": "JjZlfzkEGamg"
      },
      "execution_count": null,
      "outputs": []
    }
  ]
}